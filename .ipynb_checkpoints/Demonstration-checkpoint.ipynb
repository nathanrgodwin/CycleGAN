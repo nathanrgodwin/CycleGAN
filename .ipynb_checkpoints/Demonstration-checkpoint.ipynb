{
 "cells": [
  {
   "cell_type": "markdown",
   "metadata": {},
   "source": [
    "<h1>CycleGAN Network Demonstration</h1>"
   ]
  },
  {
   "cell_type": "markdown",
   "metadata": {},
   "source": [
    "CycleGAN is an unpaired image-to-image translation network using cycle-consistent generative adversarial networks.<br>\n",
    "<center>\n",
    "    <img src=\"cyclegan_blogs.jpg\" style=\"width:50%;height:50%;\"></img>\n",
    "</center>\n",
    "<br>\n",
    "Because the network can perform unpaired transforms, it is simple to run multiple experiments simply by retraining the network using a new data set.<br><br>\n"
   ]
  },
  {
   "cell_type": "markdown",
   "metadata": {},
   "source": [
    "<h2>Experiments</h2>\n",
    "<a href='#ukiyoe2photo'><h3>ukiyoe2photo</h3></a>\n",
    "> Training the network using the data set ukiyoe2photo produces the a transform from Ukiyo-e style paintings to photos and its inverse transform, photos to Ukiyo-e style paintings.\n",
    "\n",
    "<a href='#monet2photo'><h3>monet2photo</h3></a>\n",
    "> Training the network using the data set monet2photo produces the a transform from Monet's paintings to photos and its inverse transform, photos to Monet-styled paintings.\n",
    "\n",
    "<a href='#lossfunc'><h3>Examination of Loss Function Components</h3></a>\n",
    "> This experiment examines the effect of each component of the loss function on the resulting image."
   ]
  },
  {
   "cell_type": "markdown",
   "metadata": {},
   "source": [
    "<h2> Test Environment Setup </h2>"
   ]
  },
  {
   "cell_type": "code",
   "execution_count": 5,
   "metadata": {},
   "outputs": [
    {
     "name": "stdout",
     "output_type": "stream",
     "text": [
      "Finished loading image\n"
     ]
    }
   ],
   "source": [
    "from __future__ import print_function\n",
    "import sys\n",
    "from PIL import Image\n",
    "import os.path\n",
    "from Parameters import Params\n",
    "from torchvision import transforms\n",
    "from torchvision import utils as tv\n",
    "from Dataset import ImageSet\n",
    "import torch\n",
    "from torch.utils.data import DataLoader\n",
    "from network_elements import Mapping\n",
    "from torch.autograd import Variable\n",
    "\n",
    "imageScale = 0.5;\n",
    "images = ImageSet();\n",
    "path = './img/test_images/'\n",
    "test_transforms = [transforms.ToTensor(),\n",
    "                transforms.Normalize((0.5,0.5,0.5), (0.5,0.5,0.5))];\n",
    "images.loadImage(path, test_transforms, \"test\", imageScale);\n",
    "imgLoader = DataLoader(images, 1, shuffle=False);"
   ]
  },
  {
   "cell_type": "markdown",
   "metadata": {},
   "source": []
  },
  {
   "cell_type": "code",
   "execution_count": null,
   "metadata": {},
   "outputs": [],
   "source": []
  },
  {
   "cell_type": "markdown",
   "metadata": {},
   "source": [
    "<h2 id='ukiyoe2photo'>ukiyoe2photo</h2>"
   ]
  },
  {
   "cell_type": "code",
   "execution_count": null,
   "metadata": {},
   "outputs": [],
   "source": [
    "model = 'ukiyoe2photo';\n",
    "modelfile = torch.load(\"./model/\"+model+\"/F.data\");\n",
    "m19 = modelfile['model.19.weight'];\n",
    "im_size = m19.size(0);\n",
    "G = Mapping(3,3,im_size);\n",
    "G.cuda();\n",
    "G.load_state_dict(modelfile);\n",
    "G.eval();"
   ]
  },
  {
   "cell_type": "markdown",
   "metadata": {},
   "source": [
    "<h2 id='monet2photo'>monet2photo</h2>"
   ]
  },
  {
   "cell_type": "code",
   "execution_count": null,
   "metadata": {},
   "outputs": [],
   "source": []
  },
  {
   "cell_type": "markdown",
   "metadata": {},
   "source": [
    "<h2 id='lossfunc'>Examination of Loss Function Components</h2>"
   ]
  },
  {
   "cell_type": "code",
   "execution_count": null,
   "metadata": {},
   "outputs": [],
   "source": []
  }
 ],
 "metadata": {
  "kernelspec": {
   "display_name": "Python 2",
   "language": "python",
   "name": "python2"
  },
  "language_info": {
   "codemirror_mode": {
    "name": "ipython",
    "version": 2
   },
   "file_extension": ".py",
   "mimetype": "text/x-python",
   "name": "python",
   "nbconvert_exporter": "python",
   "pygments_lexer": "ipython2",
   "version": "2.7.14"
  }
 },
 "nbformat": 4,
 "nbformat_minor": 2
}
