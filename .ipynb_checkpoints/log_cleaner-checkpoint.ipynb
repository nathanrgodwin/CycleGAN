{
 "cells": [
  {
   "cell_type": "code",
   "execution_count": 4,
   "metadata": {
    "scrolled": false
   },
   "outputs": [
    {
     "name": "stdout",
     "output_type": "stream",
     "text": [
      "6286\n",
      ">1>>2>>3>>3>>3>>1>>1>>3>>1>>1>>1>>1>"
     ]
    }
   ],
   "source": [
    "import matplotlib.pylab as plt\n",
    "import numpy as np\n",
    "from __future__ import print_function\n",
    "\n",
    "prev_epoch = 0;\n",
    "maxsamp = 0;\n",
    "loss = {};\n",
    "with open(\"./log/monet2photo/loss.log\") as file:\n",
    "    for line in file:\n",
    "        sline = line.rstrip().split(',');\n",
    "        if (len(sline) == 7):\n",
    "            prev_epoch = int(sline[0]);\n",
    "            if (int(sline[1]) > maxsamp):\n",
    "                maxsamp = int(sline[1]);\n",
    "            loss[(int(sline[0]),int(sline[1]))] = list(map(float, sline[-5:]));\n",
    "        elif (len(sline) > 7):\n",
    "            if (int(sline[-6]) > maxsamp):\n",
    "                maxsamp = int(sline[-6]);\n",
    "            loss[(int(prev_epoch+1),int(sline[-6]))] = list(map(float, sline[-5:]));\n",
    "\n",
    "print(maxsamp);\n",
    "lossmeans = []\n",
    "for i in range(0,200):\n",
    "    sumnum = [0,0,0,0,0];\n",
    "    count = 1;\n",
    "    for j in range(0,maxsamp):\n",
    "        if ((i,j) in loss):\n",
    "            sumnum = np.add(sumnum,loss[(i,j)]);\n",
    "            count = count+1;\n",
    "        else:\n",
    "            count = 1;\n",
    "            break;\n",
    "    if (count != 1):\n",
    "        lossmeans.append(np.divide(sumnum, count-1).tolist());\n",
    "    else:\n",
    "        lossmeans.append(np.add([0,0,0,0,0], -1).tolist());\n",
    "        \n",
    "for i in range(0,200):\n",
    "    if (lossmeans[i][0] < 0):\n",
    "        j = 1\n",
    "        while (lossmeans[i+j][0] < 0):\n",
    "            j = j+1\n",
    "        #print(\">\"+str(j)+\">\",end=\"\")\n",
    "        for k in range(i,i+j):\n",
    "            lossmeans[k][0] = lossmeans[i-1][0]-(k - i + 1)*(lossmeans[i-1][0] - lossmeans[i+j][0])/(j+1);\n",
    "            lossmeans[k][1] = lossmeans[i-1][1]-(k - i + 1)*(lossmeans[i-1][1] - lossmeans[i+j][1])/(j+1);\n",
    "            lossmeans[k][2] = lossmeans[i-1][2]-(k - i + 1)*(lossmeans[i-1][2] - lossmeans[i+j][2])/(j+1);\n",
    "            lossmeans[k][3] = lossmeans[i-1][3]-(k - i + 1)*(lossmeans[i-1][3] - lossmeans[i+j][3])/(j+1);\n",
    "            lossmeans[k][4] = lossmeans[i-1][4]-(k - i + 1)*(lossmeans[i-1][4] - lossmeans[i+j][4])/(j+1);\n",
    "    #print(lossmeans[i])\n",
    "    \n"
   ]
  },
  {
   "cell_type": "code",
   "execution_count": 2,
   "metadata": {},
   "outputs": [
    {
     "data": {
      "image/png": "[encoded data removed]",
      "text/plain": [
       "<Figure size 432x288 with 1 Axes>"
      ]
     },
     "metadata": {},
     "output_type": "display_data"
    }
   ],
   "source": [
    "losses = np.array(lossmeans);\n",
    "\n",
    "plots = []\n",
    "for i in range(0,5):\n",
    "    plots[i] = plt.figure(i);\n",
    "    col = losses[:,i];\n",
    "    plt.plot(range(0,200), col)\n",
    "    plots[i].show();\n"
   ]
  }
 ],
 "metadata": {
  "kernelspec": {
   "display_name": "Python 2",
   "language": "python",
   "name": "python2"
  },
  "language_info": {
   "codemirror_mode": {
    "name": "ipython",
    "version": 2
   },
   "file_extension": ".py",
   "mimetype": "text/x-python",
   "name": "python",
   "nbconvert_exporter": "python",
   "pygments_lexer": "ipython2",
   "version": "2.7.14"
  }
 },
 "nbformat": 4,
 "nbformat_minor": 2
}
