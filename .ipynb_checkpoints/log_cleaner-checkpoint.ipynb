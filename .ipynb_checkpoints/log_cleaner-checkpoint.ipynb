{
 "cells": [
  {
   "cell_type": "code",
   "execution_count": 36,
   "metadata": {
    "scrolled": false
   },
   "outputs": [
    {
     "name": "stdout",
     "output_type": "stream",
     "text": [
      "6286\n",
      "[8.410685680878128, 2.402144461660835, 0.3681538797327396, 5.095090360006361, 0.37034764237989093]\n",
      "[7.11729524562519, 1.9897992503977093, 0.32130718390073226, 4.195915062838046, 0.32890172892141356]\n",
      "[6.593475723830737, 1.805355356824695, 0.2949569105949732, 3.8317828189627874, 0.30085246452433945]\n",
      "[6.196850728603269, 1.6658681054724833, 0.28282182103086206, 3.5581580202036283, 0.29087344034362117]\n",
      "[5.9594608566656095, 1.575651503977091, 0.265614880369075, 3.3977655033407643, 0.2741722873051231]\n",
      "[5.812959839643631, 1.5156060556792899, 0.26521595402481785, 3.294049319440029, 0.2716107997136485]\n"
     ]
    },
    {
     "ename": "TypeError",
     "evalue": "cannot concatenate 'str' and 'int' objects",
     "output_type": "error",
     "traceback": [
      "\u001b[0;31m\u001b[0m",
      "\u001b[0;31mTypeError\u001b[0mTraceback (most recent call last)",
      "\u001b[0;32m<ipython-input-36-09cc43cf97a5>\u001b[0m in \u001b[0;36m<module>\u001b[0;34m()\u001b[0m\n\u001b[1;32m     41\u001b[0m         \u001b[0;32mwhile\u001b[0m \u001b[0;34m(\u001b[0m\u001b[0mlossmeans\u001b[0m\u001b[0;34m[\u001b[0m\u001b[0mi\u001b[0m\u001b[0;34m+\u001b[0m\u001b[0mj\u001b[0m\u001b[0;34m]\u001b[0m\u001b[0;34m[\u001b[0m\u001b[0;36m0\u001b[0m\u001b[0;34m]\u001b[0m \u001b[0;34m<\u001b[0m \u001b[0;36m0\u001b[0m\u001b[0;34m)\u001b[0m\u001b[0;34m:\u001b[0m\u001b[0;34m\u001b[0m\u001b[0m\n\u001b[1;32m     42\u001b[0m             \u001b[0mj\u001b[0m \u001b[0;34m=\u001b[0m \u001b[0mj\u001b[0m\u001b[0;34m+\u001b[0m\u001b[0;36m1\u001b[0m\u001b[0;34m\u001b[0m\u001b[0m\n\u001b[0;32m---> 43\u001b[0;31m         \u001b[0;32mprint\u001b[0m\u001b[0;34m(\u001b[0m\u001b[0;34m\">\"\u001b[0m\u001b[0;34m+\u001b[0m\u001b[0mj\u001b[0m\u001b[0;34m+\u001b[0m\u001b[0;34m\">\"\u001b[0m\u001b[0;34m,\u001b[0m\u001b[0mend\u001b[0m\u001b[0;34m=\u001b[0m\u001b[0;34m\"\"\u001b[0m\u001b[0;34m)\u001b[0m\u001b[0;34m\u001b[0m\u001b[0m\n\u001b[0m\u001b[1;32m     44\u001b[0m         \u001b[0;32mfor\u001b[0m \u001b[0mk\u001b[0m \u001b[0;32min\u001b[0m \u001b[0mrange\u001b[0m\u001b[0;34m(\u001b[0m\u001b[0mi\u001b[0m\u001b[0;34m,\u001b[0m\u001b[0mi\u001b[0m\u001b[0;34m+\u001b[0m\u001b[0mj\u001b[0m\u001b[0;34m)\u001b[0m\u001b[0;34m:\u001b[0m\u001b[0;34m\u001b[0m\u001b[0m\n\u001b[1;32m     45\u001b[0m             \u001b[0mlossmeans\u001b[0m\u001b[0;34m[\u001b[0m\u001b[0mk\u001b[0m\u001b[0;34m]\u001b[0m\u001b[0;34m[\u001b[0m\u001b[0;36m0\u001b[0m\u001b[0;34m]\u001b[0m \u001b[0;34m=\u001b[0m \u001b[0mlossmeans\u001b[0m\u001b[0;34m[\u001b[0m\u001b[0mi\u001b[0m\u001b[0;34m-\u001b[0m\u001b[0;36m1\u001b[0m\u001b[0;34m]\u001b[0m\u001b[0;34m[\u001b[0m\u001b[0;36m0\u001b[0m\u001b[0;34m]\u001b[0m\u001b[0;34m-\u001b[0m\u001b[0;34m(\u001b[0m\u001b[0mk\u001b[0m \u001b[0;34m-\u001b[0m \u001b[0mi\u001b[0m \u001b[0;34m+\u001b[0m \u001b[0;36m1\u001b[0m\u001b[0;34m)\u001b[0m\u001b[0;34m*\u001b[0m\u001b[0;34m(\u001b[0m\u001b[0mlossmeans\u001b[0m\u001b[0;34m[\u001b[0m\u001b[0mi\u001b[0m\u001b[0;34m-\u001b[0m\u001b[0;36m1\u001b[0m\u001b[0;34m]\u001b[0m\u001b[0;34m[\u001b[0m\u001b[0;36m0\u001b[0m\u001b[0;34m]\u001b[0m \u001b[0;34m-\u001b[0m \u001b[0mlossmeans\u001b[0m\u001b[0;34m[\u001b[0m\u001b[0mi\u001b[0m\u001b[0;34m+\u001b[0m\u001b[0mj\u001b[0m\u001b[0;34m]\u001b[0m\u001b[0;34m[\u001b[0m\u001b[0;36m0\u001b[0m\u001b[0;34m]\u001b[0m\u001b[0;34m)\u001b[0m\u001b[0;34m/\u001b[0m\u001b[0;34m(\u001b[0m\u001b[0mj\u001b[0m\u001b[0;34m+\u001b[0m\u001b[0;36m1\u001b[0m\u001b[0;34m)\u001b[0m\u001b[0;34m;\u001b[0m\u001b[0;34m\u001b[0m\u001b[0m\n",
      "\u001b[0;31mTypeError\u001b[0m: cannot concatenate 'str' and 'int' objects"
     ]
    }
   ],
   "source": [
    "import matplotlib.pylab as plt\n",
    "import numpy as np\n",
    "from __future__ import print_function\n",
    "\n",
    "prev_epoch = 0;\n",
    "maxsamp = 0;\n",
    "loss = {};\n",
    "with open(\"./log/ukiyoe2photo/loss.log\") as file:\n",
    "    for line in file:\n",
    "        sline = line.rstrip().split(',');\n",
    "        if (len(sline) == 7):\n",
    "            prev_epoch = int(sline[0]);\n",
    "            if (int(sline[1]) > maxsamp):\n",
    "                maxsamp = int(sline[1]);\n",
    "            loss[(int(sline[0]),int(sline[1]))] = list(map(float, sline[-5:]));\n",
    "        elif (len(sline) > 7):\n",
    "            if (int(sline[-6]) > maxsamp):\n",
    "                maxsamp = int(sline[-6]);\n",
    "            loss[(int(prev_epoch+1),int(sline[-6]))] = list(map(float, sline[-5:]));\n",
    "\n",
    "print(maxsamp);\n",
    "lossmeans = []\n",
    "for i in range(0,200):\n",
    "    sumnum = [0,0,0,0,0];\n",
    "    count = 1;\n",
    "    for j in range(0,maxsamp):\n",
    "        if ((i,j) in loss):\n",
    "            sumnum = np.add(sumnum,loss[(i,j)]);\n",
    "            count = count+1;\n",
    "        else:\n",
    "            count = 1;\n",
    "            break;\n",
    "    if (count != 1):\n",
    "        lossmeans.append(np.divide(sumnum, count-1).tolist());\n",
    "    else:\n",
    "        lossmeans.append(np.add([0,0,0,0,0], -1).tolist());\n",
    "        \n",
    "for i in range(0,200):\n",
    "    if (lossmeans[i][0] < 0):\n",
    "        j = 1\n",
    "        while (lossmeans[i+j][0] < 0):\n",
    "            j = j+1\n",
    "        print(\">\"+str(j)+\">\",end=\"\")\n",
    "        for k in range(i,i+j):\n",
    "            lossmeans[k][0] = lossmeans[i-1][0]-(k - i + 1)*(lossmeans[i-1][0] - lossmeans[i+j][0])/(j+1);\n",
    "            lossmeans[k][1] = lossmeans[i-1][1]-(k - i + 1)*(lossmeans[i-1][1] - lossmeans[i+j][1])/(j+1);\n",
    "            lossmeans[k][2] = lossmeans[i-1][2]-(k - i + 1)*(lossmeans[i-1][2] - lossmeans[i+j][2])/(j+1);\n",
    "            lossmeans[k][3] = lossmeans[i-1][3]-(k - i + 1)*(lossmeans[i-1][3] - lossmeans[i+j][3])/(j+1);\n",
    "            lossmeans[k][4] = lossmeans[i-1][4]-(k - i + 1)*(lossmeans[i-1][4] - lossmeans[i+j][4])/(j+1);\n",
    "    print(lossmeans[i])\n",
    "    \n",
    "        \n",
    "        \n",
    "        "
   ]
  },
  {
   "cell_type": "code",
   "execution_count": 42,
   "metadata": {},
   "outputs": [
    {
     "name": "stdout",
     "output_type": "stream",
     "text": [
      "['17.716349', '5.711968', '0.888718', '11.762389']\n"
     ]
    }
   ],
   "source": []
  }
 ],
 "metadata": {
  "kernelspec": {
   "display_name": "Python 2",
   "language": "python",
   "name": "python2"
  },
  "language_info": {
   "codemirror_mode": {
    "name": "ipython",
    "version": 2
   },
   "file_extension": ".py",
   "mimetype": "text/x-python",
   "name": "python",
   "nbconvert_exporter": "python",
   "pygments_lexer": "ipython2",
   "version": "2.7.14"
  }
 },
 "nbformat": 4,
 "nbformat_minor": 2
}
