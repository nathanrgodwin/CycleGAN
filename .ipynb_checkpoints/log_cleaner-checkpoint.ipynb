{
 "cells": [
  {
   "cell_type": "code",
   "execution_count": 17,
   "metadata": {
    "scrolled": false
   },
   "outputs": [
    {
     "name": "stdout",
     "output_type": "stream",
     "text": [
      "6286\n"
     ]
    }
   ],
   "source": [
    "import matplotlib.pylab as plt\n",
    "import numpy as np\n",
    "from __future__ import print_function\n",
    "\n",
    "model = \"ukiyoe2photo\"\n",
    "\n",
    "prev_epoch = 0;\n",
    "maxsamp = 0;\n",
    "loss = {};\n",
    "with open(\"./log/\"+model+\"/loss.log\") as file:\n",
    "    for line in file:\n",
    "        sline = line.rstrip().split(',');\n",
    "        if (len(sline) == 7):\n",
    "            prev_epoch = int(sline[0]);\n",
    "            if (int(sline[1]) > maxsamp):\n",
    "                maxsamp = int(sline[1]);\n",
    "            loss[(int(sline[0]),int(sline[1]))] = list(map(float, sline[-5:]));\n",
    "        elif (len(sline) > 7):\n",
    "            if (int(sline[-6]) > maxsamp):\n",
    "                maxsamp = int(sline[-6]);\n",
    "            loss[(int(prev_epoch+1),int(sline[-6]))] = list(map(float, sline[-5:]));\n",
    "\n",
    "print(maxsamp);\n",
    "lossmeans = []\n",
    "for i in range(0,200):\n",
    "    sumnum = [0,0,0,0,0];\n",
    "    count = 1;\n",
    "    for j in range(0,maxsamp):\n",
    "        if ((i,j) in loss):\n",
    "            sumnum = np.add(sumnum,loss[(i,j)]);\n",
    "            count = count+1;\n",
    "        else:\n",
    "            count = 1;\n",
    "            break;\n",
    "    if (count != 1):\n",
    "        lossmeans.append(np.divide(sumnum, count-1).tolist());\n",
    "    else:\n",
    "        lossmeans.append(np.add([0,0,0,0,0], -1).tolist());\n",
    "        \n",
    "for i in range(0,200):\n",
    "    if (lossmeans[i][0] < 0):\n",
    "        j = 1\n",
    "        while (lossmeans[i+j][0] < 0):\n",
    "            j = j+1\n",
    "        #print(\">\"+str(j)+\">\",end=\"\")\n",
    "        for k in range(i,i+j):\n",
    "            lossmeans[k][0] = lossmeans[i-1][0]-(k - i + 1)*(lossmeans[i-1][0] - lossmeans[i+j][0])/(j+1);\n",
    "            lossmeans[k][1] = lossmeans[i-1][1]-(k - i + 1)*(lossmeans[i-1][1] - lossmeans[i+j][1])/(j+1);\n",
    "            lossmeans[k][2] = lossmeans[i-1][2]-(k - i + 1)*(lossmeans[i-1][2] - lossmeans[i+j][2])/(j+1);\n",
    "            lossmeans[k][3] = lossmeans[i-1][3]-(k - i + 1)*(lossmeans[i-1][3] - lossmeans[i+j][3])/(j+1);\n",
    "            lossmeans[k][4] = lossmeans[i-1][4]-(k - i + 1)*(lossmeans[i-1][4] - lossmeans[i+j][4])/(j+1);\n",
    "    #print(lossmeans[i])\n",
    "    \n"
   ]
  },
  {
   "cell_type": "code",
   "execution_count": 19,
   "metadata": {},
   "outputs": [
    {
     "ename": "TypeError",
     "evalue": "append() takes no keyword arguments",
     "output_type": "error",
     "traceback": [
      "\u001b[0;31m\u001b[0m",
      "\u001b[0;31mTypeError\u001b[0mTraceback (most recent call last)",
      "\u001b[0;32m<ipython-input-19-0d52a6ad9b5e>\u001b[0m in \u001b[0;36m<module>\u001b[0;34m()\u001b[0m\n\u001b[1;32m      9\u001b[0m \u001b[0mplots\u001b[0m \u001b[0;34m=\u001b[0m \u001b[0;34m[\u001b[0m\u001b[0;34m]\u001b[0m\u001b[0;34m\u001b[0m\u001b[0m\n\u001b[1;32m     10\u001b[0m \u001b[0;32mfor\u001b[0m \u001b[0mi\u001b[0m \u001b[0;32min\u001b[0m \u001b[0mrange\u001b[0m\u001b[0;34m(\u001b[0m\u001b[0;36m0\u001b[0m\u001b[0;34m,\u001b[0m\u001b[0;36m5\u001b[0m\u001b[0;34m)\u001b[0m\u001b[0;34m:\u001b[0m\u001b[0;34m\u001b[0m\u001b[0m\n\u001b[0;32m---> 11\u001b[0;31m     \u001b[0mplots\u001b[0m\u001b[0;34m.\u001b[0m\u001b[0mappend\u001b[0m\u001b[0;34m(\u001b[0m\u001b[0mplt\u001b[0m\u001b[0;34m.\u001b[0m\u001b[0mfigure\u001b[0m\u001b[0;34m(\u001b[0m\u001b[0mi\u001b[0m\u001b[0;34m)\u001b[0m\u001b[0;34m,\u001b[0m \u001b[0mfigsize\u001b[0m\u001b[0;34m=\u001b[0m\u001b[0;34m(\u001b[0m\u001b[0;36m8\u001b[0m\u001b[0;34m,\u001b[0m\u001b[0;36m10\u001b[0m\u001b[0;34m)\u001b[0m\u001b[0;34m)\u001b[0m\u001b[0;34m;\u001b[0m\u001b[0;34m\u001b[0m\u001b[0m\n\u001b[0m\u001b[1;32m     12\u001b[0m     \u001b[0mcol\u001b[0m \u001b[0;34m=\u001b[0m \u001b[0mlosses\u001b[0m\u001b[0;34m[\u001b[0m\u001b[0;34m:\u001b[0m\u001b[0;34m,\u001b[0m\u001b[0mi\u001b[0m\u001b[0;34m]\u001b[0m\u001b[0;34m;\u001b[0m\u001b[0;34m\u001b[0m\u001b[0m\n\u001b[1;32m     13\u001b[0m     \u001b[0mplt\u001b[0m\u001b[0;34m.\u001b[0m\u001b[0mplot\u001b[0m\u001b[0;34m(\u001b[0m\u001b[0mrange\u001b[0m\u001b[0;34m(\u001b[0m\u001b[0;36m0\u001b[0m\u001b[0;34m,\u001b[0m\u001b[0;36m200\u001b[0m\u001b[0;34m)\u001b[0m\u001b[0;34m,\u001b[0m \u001b[0mcol\u001b[0m\u001b[0;34m)\u001b[0m\u001b[0;34m\u001b[0m\u001b[0m\n",
      "\u001b[0;31mTypeError\u001b[0m: append() takes no keyword arguments"
     ]
    },
    {
     "data": {
      "text/plain": [
       "<Figure size 432x288 with 0 Axes>"
      ]
     },
     "metadata": {},
     "output_type": "display_data"
    }
   ],
   "source": [
    "import os.path;\n",
    "path = \"./lossplots/\"+model + \"/\";\n",
    "if not os.path.exists(path):\n",
    "    os.makedirs(path);\n",
    "\n",
    "losses = np.array(lossmeans);\n",
    "titles = [\"Total Generator Loss\", \"Identity Loss\", \"GAN Loss\", \"Cycle-Consistency Loss\", \"Discriminator Loss\"];\n",
    "filenames = [\"gen_loss.png\", \"ident_loss.png\", \"gan_loss.png\", \"cc_loss.png\", \"d_loss.png\"];\n",
    "plots = []\n",
    "for i in range(0,5):\n",
    "    plots.append(plt.figure(i));\n",
    "    col = losses[:,i];\n",
    "    plt.plot(range(0,200), col)\n",
    "    plt.xlabel('Epoch');\n",
    "    plt.ylabel('Loss');\n",
    "    plt.title(model + \" \" + titles[i]);\n",
    "    plots[i].show();\n",
    "    plt.savefig(path + filenames[i], bbox_inches='tight')\n"
   ]
  },
  {
   "cell_type": "code",
   "execution_count": null,
   "metadata": {},
   "outputs": [],
   "source": []
  }
 ],
 "metadata": {
  "kernelspec": {
   "display_name": "Python 2",
   "language": "python",
   "name": "python2"
  },
  "language_info": {
   "codemirror_mode": {
    "name": "ipython",
    "version": 2
   },
   "file_extension": ".py",
   "mimetype": "text/x-python",
   "name": "python",
   "nbconvert_exporter": "python",
   "pygments_lexer": "ipython2",
   "version": "2.7.14"
  }
 },
 "nbformat": 4,
 "nbformat_minor": 2
}
