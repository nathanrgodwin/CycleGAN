{
 "cells": [
  {
   "cell_type": "code",
   "execution_count": 64,
   "metadata": {
    "scrolled": false
   },
   "outputs": [
    {
     "ename": "SyntaxError",
     "evalue": "invalid syntax (<ipython-input-64-503d10318b2f>, line 32)",
     "output_type": "error",
     "traceback": [
      "\u001b[0;36m  File \u001b[0;32m\"<ipython-input-64-503d10318b2f>\"\u001b[0;36m, line \u001b[0;32m32\u001b[0m\n\u001b[0;31m    print(np.divide(sumnum, (count-1));\u001b[0m\n\u001b[0m                                      ^\u001b[0m\n\u001b[0;31mSyntaxError\u001b[0m\u001b[0;31m:\u001b[0m invalid syntax\n"
     ]
    }
   ],
   "source": [
    "import matplotlib.pylab as plt\n",
    "import numpy as np\n",
    "\n",
    "prev_epoch = 0;\n",
    "maxsamp = 0;\n",
    "loss = {};\n",
    "with open(\"./log/ukiyoe2photo_noident/loss.log\") as file:\n",
    "    for line in file:\n",
    "        sline = line.rstrip().split(',');\n",
    "        if (len(sline) == 7):\n",
    "            prev_epoch = int(sline[0]);\n",
    "            if (int(sline[1]) > maxsamp):\n",
    "                maxsamp = int(sline[1]);\n",
    "            loss[(int(sline[0]),int(sline[1]))] = list(map(float, sline[-5:]));\n",
    "        elif (len(sline) > 7):\n",
    "            if (int(sline[-6]) > maxsamp):\n",
    "                maxsamp = int(sline[-6]);\n",
    "            loss[(int(prev_epoch),int(sline[-6]))] = list(map(float, sline[-5:]));\n",
    "\n",
    "print(maxsamp);\n",
    "lossmeans = {}\n",
    "for i in range(0,200):\n",
    "    sumnum = [0,0,0,0,0];\n",
    "    count = 1;\n",
    "    for j in range(0,maxsamp):\n",
    "        if ((i,j) in loss):\n",
    "            sumnum = np.add(sumnum,loss[(i,j)]);\n",
    "            count = count+1;\n",
    "        else:\n",
    "            break;\n",
    "    print(i);\n",
    "    if (count != 1):\n",
    "        print(np.divide(sumnum, (count-1)));\n",
    "    else:\n",
    "        print(np.divide())\n",
    "    \n",
    "    \n",
    "        \n",
    "        \n",
    "        \n",
    "        \n",
    "        \n",
    "        \n",
    "        \n",
    "        \n",
    "        \n",
    "        \n",
    "        \n",
    "        \n",
    "        \n",
    "        \n",
    "        \n",
    "        \n",
    "        \n",
    "        \n",
    "        \n",
    "        \n",
    "        "
   ]
  },
  {
   "cell_type": "code",
   "execution_count": 42,
   "metadata": {},
   "outputs": [
    {
     "name": "stdout",
     "output_type": "stream",
     "text": [
      "['17.716349', '5.711968', '0.888718', '11.762389']\n"
     ]
    }
   ],
   "source": [
    "print(loss[(0,2)])"
   ]
  }
 ],
 "metadata": {
  "kernelspec": {
   "display_name": "Python 2",
   "language": "python",
   "name": "python2"
  },
  "language_info": {
   "codemirror_mode": {
    "name": "ipython",
    "version": 2
   },
   "file_extension": ".py",
   "mimetype": "text/x-python",
   "name": "python",
   "nbconvert_exporter": "python",
   "pygments_lexer": "ipython2",
   "version": "2.7.14"
  }
 },
 "nbformat": 4,
 "nbformat_minor": 2
}
